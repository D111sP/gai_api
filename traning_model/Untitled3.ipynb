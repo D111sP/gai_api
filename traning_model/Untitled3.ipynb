{
  "nbformat": 4,
  "nbformat_minor": 0,
  "metadata": {
    "colab": {
      "provenance": []
    },
    "kernelspec": {
      "name": "python3",
      "display_name": "Python 3"
    },
    "language_info": {
      "name": "python"
    },
    "accelerator": "GPU",
    "gpuClass": "standard"
  },
  "cells": [
    {
      "cell_type": "code",
      "source": [
        "!git clone https://github.com/D111sP/test_api"
      ],
      "metadata": {
        "colab": {
          "base_uri": "https://localhost:8080/"
        },
        "id": "TBx_A2220A8O",
        "outputId": "4922ff99-b96e-4991-bf3f-0cc4bb91b936"
      },
      "execution_count": null,
      "outputs": [
        {
          "output_type": "stream",
          "name": "stdout",
          "text": [
            "Cloning into 'test_api'...\n",
            "remote: Enumerating objects: 6682, done.\u001b[K\n",
            "remote: Counting objects: 100% (6682/6682), done.\u001b[K\n",
            "remote: Compressing objects: 100% (6681/6681), done.\u001b[K\n",
            "remote: Total 6682 (delta 4), reused 6679 (delta 1), pack-reused 0\u001b[K\n",
            "Receiving objects: 100% (6682/6682), 5.37 MiB | 10.67 MiB/s, done.\n",
            "Resolving deltas: 100% (4/4), done.\n"
          ]
        }
      ]
    },
    {
      "cell_type": "code",
      "execution_count": null,
      "metadata": {
        "id": "ULjAe7QihBY2"
      },
      "outputs": [],
      "source": [
        "from tensorflow.python.keras.models import Sequential\n",
        "from tensorflow.python.keras.layers import Conv2D, MaxPooling2D\n",
        "from tensorflow.python.keras.layers import Activation, Dropout, Flatten, Dense\n",
        "\n",
        "import multiprocessing\n",
        "import os\n",
        "from random import shuffle\n",
        "from typing import Tuple, Optional, List\n",
        "\n",
        "import cv2\n",
        "import numpy as np\n",
        "from keras.callbacks import ModelCheckpoint\n",
        "from keras.models import Functional\n",
        "from tensorflow import keras\n",
        "import tensorflow as tf\n",
        "import matplotlib.pyplot as plt"
      ]
    },
    {
      "cell_type": "code",
      "source": [
        "# Размеры изображения\n",
        "img_width, img_height = 80, 30\n",
        "# Размерность тензора на основе изображения для входных данных в нейронную сеть\n",
        "# backend Tensorflow, channels_last\n",
        "input_shape = (img_width, img_height, 3)"
      ],
      "metadata": {
        "id": "T3hPnczv0TNv"
      },
      "execution_count": null,
      "outputs": []
    },
    {
      "cell_type": "code",
      "source": [
        "model = Sequential()\n",
        "model.add(Conv2D(32, (3, 3), input_shape=input_shape))\n",
        "model.add(Activation('relu'))\n",
        "model.add(MaxPooling2D(pool_size=(2, 2)))\n",
        "\n",
        "model.add(Conv2D(32, (3, 3)))\n",
        "model.add(Activation('relu'))\n",
        "model.add(MaxPooling2D(pool_size=(2, 2)))\n",
        "\n",
        "model.add(Conv2D(64, (3, 3)))\n",
        "model.add(Activation('relu'))\n",
        "model.add(MaxPooling2D(pool_size=(2, 2)))\n",
        "\n",
        "\n",
        "model.add(Dense(100))\n",
        "model.add(Activation('relu'))\n",
        "model.add(Flatten())\n",
        "model.add(Dropout(0.5))\n",
        "model.add(Dense(10))\n",
        "model.add(Activation('sigmoid'))"
      ],
      "metadata": {
        "id": "Y2o3xGbu0h4U"
      },
      "execution_count": null,
      "outputs": []
    },
    {
      "cell_type": "code",
      "source": [
        "model.compile(loss='categorical_crossentropy',\n",
        "              optimizer='adam',\n",
        "              metrics=['accuracy'])"
      ],
      "metadata": {
        "id": "OxdwDrf50npf"
      },
      "execution_count": null,
      "outputs": []
    },
    {
      "cell_type": "code",
      "source": [
        "def _provide_data(for_train_percent, num_of_threads: Optional[int] = 4):\n",
        "  paths_to_images = []\n",
        "\n",
        "  for el in range(0, 10):\n",
        "    paths_to_images.extend(f'/content/test_api/img_base_create/base/80x30/{el}/{image_name}' for image_name in os.listdir(f'/content/test_api/img_base_create/base/80x30/{el}'))\n",
        "\n",
        "  shuffle(paths_to_images)\n",
        "\n",
        "  size = len(paths_to_images)\n",
        "  train_size = int(size * for_train_percent / 100)\n",
        "  test_size = size - train_size\n",
        "  chunk_size = size // num_of_threads\n",
        "\n",
        "  manager = multiprocessing.Manager()\n",
        "  data = manager.list()\n",
        "  processes = []\n",
        "  for i in range(chunk_size):\n",
        "      start = i * chunk_size\n",
        "      stop = (i + 1) * chunk_size\n",
        "      process = multiprocessing.Process(target=_provide_images, args=(paths_to_images[start:stop], data))\n",
        "      processes.append(process)\n",
        "      process.start()\n",
        "\n",
        "  for process in processes:\n",
        "      process.join()\n",
        "\n",
        "\n",
        "  all_images = [value[0]/255 for value in data]\n",
        "  all_labels = [value[1] for value in data]\n",
        "  x_train, y_train = all_images[:train_size], all_labels[:train_size]\n",
        "  x_test, y_test = all_images[-test_size:], all_labels[-test_size:]\n",
        "  return np.array(x_train), np.array(y_train), np.array(x_test), np.array(y_test)"
      ],
      "metadata": {
        "id": "X0TjV_cj01SX"
      },
      "execution_count": null,
      "outputs": []
    },
    {
      "cell_type": "code",
      "source": [
        "def _provide_images(paths_to_image: List[str], all_images: List[Tuple[np.ndarray, np.ndarray]]) -> None:\n",
        "  for path_to_image in paths_to_image:\n",
        "      digit = int(path_to_image.split('/')[-2])\n",
        "      digit_vectorize = np.zeros(shape=(10,))\n",
        "      digit_vectorize[digit] = 1\n",
        "\n",
        "      img = cv2.imread(path_to_image)\n",
        "      all_images.append((img, digit_vectorize))"
      ],
      "metadata": {
        "id": "wBQ0k-8v037B"
      },
      "execution_count": null,
      "outputs": []
    },
    {
      "cell_type": "code",
      "source": [
        "x_train, y_train, x_test, y_test = _provide_data(for_train_percent=80)"
      ],
      "metadata": {
        "id": "y3i0YsKF1NUh"
      },
      "execution_count": null,
      "outputs": []
    },
    {
      "cell_type": "code",
      "source": [
        "yy_train = y_train.copy()\n",
        "xx_train =x_train.copy()"
      ],
      "metadata": {
        "id": "2dD-vKt11PZU"
      },
      "execution_count": null,
      "outputs": []
    },
    {
      "cell_type": "code",
      "source": [
        "yyy_train = np.asarray(yy_train).astype('float32').reshape((3571,-1))\n",
        "print(len(yyy_train))\n",
        "xxx_train =xx_train.copy()"
      ],
      "metadata": {
        "colab": {
          "base_uri": "https://localhost:8080/"
        },
        "id": "prkmFPL-1P01",
        "outputId": "2fefc053-eb3e-4b7d-aa74-1bc82ac59629"
      },
      "execution_count": null,
      "outputs": [
        {
          "output_type": "stream",
          "name": "stdout",
          "text": [
            "3571\n"
          ]
        }
      ]
    },
    {
      "cell_type": "markdown",
      "source": [
        "# Новый раздел"
      ],
      "metadata": {
        "id": "pYR5JegX1gij"
      }
    },
    {
      "cell_type": "code",
      "source": [
        "model.fit(xxx_train,\n",
        "          yyy_train,\n",
        "          epochs=40,\n",
        "          batch_size = 64)"
      ],
      "metadata": {
        "colab": {
          "base_uri": "https://localhost:8080/"
        },
        "id": "J5in3ngO1RVp",
        "outputId": "68bb2cb9-1764-49d6-f643-b04e769a67cf"
      },
      "execution_count": null,
      "outputs": [
        {
          "output_type": "stream",
          "name": "stdout",
          "text": [
            "Epoch 1/40\n",
            "56/56 [==============================] - 9s 17ms/step - loss: 2.0584 - accuracy: 0.2616\n",
            "Epoch 2/40\n",
            "56/56 [==============================] - 0s 6ms/step - loss: 1.2143 - accuracy: 0.5906\n",
            "Epoch 3/40\n",
            "56/56 [==============================] - 0s 8ms/step - loss: 0.8709 - accuracy: 0.7085\n",
            "Epoch 4/40\n",
            "56/56 [==============================] - 1s 10ms/step - loss: 0.6861 - accuracy: 0.7709\n",
            "Epoch 5/40\n",
            "56/56 [==============================] - 0s 8ms/step - loss: 0.5969 - accuracy: 0.8034\n",
            "Epoch 6/40\n",
            "56/56 [==============================] - 0s 7ms/step - loss: 0.4913 - accuracy: 0.8446\n",
            "Epoch 7/40\n",
            "56/56 [==============================] - 0s 6ms/step - loss: 0.4501 - accuracy: 0.8563\n",
            "Epoch 8/40\n",
            "56/56 [==============================] - 0s 6ms/step - loss: 0.3722 - accuracy: 0.8813\n",
            "Epoch 9/40\n",
            "56/56 [==============================] - 0s 7ms/step - loss: 0.3391 - accuracy: 0.8866\n",
            "Epoch 10/40\n",
            "56/56 [==============================] - 0s 6ms/step - loss: 0.3144 - accuracy: 0.8964\n",
            "Epoch 11/40\n",
            "56/56 [==============================] - 0s 6ms/step - loss: 0.2731 - accuracy: 0.9079\n",
            "Epoch 12/40\n",
            "56/56 [==============================] - 0s 6ms/step - loss: 0.2426 - accuracy: 0.9188\n",
            "Epoch 13/40\n",
            "56/56 [==============================] - 0s 6ms/step - loss: 0.2279 - accuracy: 0.9222\n",
            "Epoch 14/40\n",
            "56/56 [==============================] - 0s 7ms/step - loss: 0.1897 - accuracy: 0.9390\n",
            "Epoch 15/40\n",
            "56/56 [==============================] - 0s 6ms/step - loss: 0.1774 - accuracy: 0.9401\n",
            "Epoch 16/40\n",
            "56/56 [==============================] - 0s 6ms/step - loss: 0.1566 - accuracy: 0.9420\n",
            "Epoch 17/40\n",
            "56/56 [==============================] - 0s 6ms/step - loss: 0.1505 - accuracy: 0.9474\n",
            "Epoch 18/40\n",
            "56/56 [==============================] - 0s 6ms/step - loss: 0.1502 - accuracy: 0.9462\n",
            "Epoch 19/40\n",
            "56/56 [==============================] - 0s 6ms/step - loss: 0.1270 - accuracy: 0.9577\n",
            "Epoch 20/40\n",
            "56/56 [==============================] - 0s 6ms/step - loss: 0.1202 - accuracy: 0.9541\n",
            "Epoch 21/40\n",
            "56/56 [==============================] - 0s 6ms/step - loss: 0.1071 - accuracy: 0.9647\n",
            "Epoch 22/40\n",
            "56/56 [==============================] - 0s 6ms/step - loss: 0.1039 - accuracy: 0.9675\n",
            "Epoch 23/40\n",
            "56/56 [==============================] - 0s 6ms/step - loss: 0.0929 - accuracy: 0.9720\n",
            "Epoch 24/40\n",
            "56/56 [==============================] - 0s 6ms/step - loss: 0.0887 - accuracy: 0.9726\n",
            "Epoch 25/40\n",
            "56/56 [==============================] - 0s 6ms/step - loss: 0.0777 - accuracy: 0.9723\n",
            "Epoch 26/40\n",
            "56/56 [==============================] - 0s 6ms/step - loss: 0.0687 - accuracy: 0.9768\n",
            "Epoch 27/40\n",
            "56/56 [==============================] - 0s 6ms/step - loss: 0.0686 - accuracy: 0.9773\n",
            "Epoch 28/40\n",
            "56/56 [==============================] - 0s 6ms/step - loss: 0.0768 - accuracy: 0.9737\n",
            "Epoch 29/40\n",
            "56/56 [==============================] - 0s 6ms/step - loss: 0.0530 - accuracy: 0.9815\n",
            "Epoch 30/40\n",
            "56/56 [==============================] - 0s 6ms/step - loss: 0.0663 - accuracy: 0.9756\n",
            "Epoch 31/40\n",
            "56/56 [==============================] - 0s 6ms/step - loss: 0.0662 - accuracy: 0.9782\n",
            "Epoch 32/40\n",
            "56/56 [==============================] - 0s 6ms/step - loss: 0.0520 - accuracy: 0.9812\n",
            "Epoch 33/40\n",
            "56/56 [==============================] - 0s 6ms/step - loss: 0.0454 - accuracy: 0.9849\n",
            "Epoch 34/40\n",
            "56/56 [==============================] - 0s 6ms/step - loss: 0.0490 - accuracy: 0.9835\n",
            "Epoch 35/40\n",
            "56/56 [==============================] - 0s 6ms/step - loss: 0.0619 - accuracy: 0.9765\n",
            "Epoch 36/40\n",
            "56/56 [==============================] - 0s 6ms/step - loss: 0.0559 - accuracy: 0.9826\n",
            "Epoch 37/40\n",
            "56/56 [==============================] - 0s 6ms/step - loss: 0.0461 - accuracy: 0.9857\n",
            "Epoch 38/40\n",
            "56/56 [==============================] - 0s 6ms/step - loss: 0.0359 - accuracy: 0.9902\n",
            "Epoch 39/40\n",
            "56/56 [==============================] - 0s 6ms/step - loss: 0.0410 - accuracy: 0.9868\n",
            "Epoch 40/40\n",
            "56/56 [==============================] - 0s 6ms/step - loss: 0.0566 - accuracy: 0.9790\n"
          ]
        },
        {
          "output_type": "execute_result",
          "data": {
            "text/plain": [
              "<tensorflow.python.keras.callbacks.History at 0x7f35a001eb50>"
            ]
          },
          "metadata": {},
          "execution_count": 13
        }
      ]
    },
    {
      "cell_type": "code",
      "source": [
        "model.evaluate(x_test, y_test)"
      ],
      "metadata": {
        "colab": {
          "base_uri": "https://localhost:8080/"
        },
        "id": "JaVINFj82tva",
        "outputId": "4ac4df8e-7979-4fe9-80f5-155c0f08f07e"
      },
      "execution_count": null,
      "outputs": [
        {
          "output_type": "stream",
          "name": "stdout",
          "text": [
            "28/28 [==============================] - 0s 6ms/step - loss: 0.4240 - accuracy: 0.9127\n"
          ]
        },
        {
          "output_type": "execute_result",
          "data": {
            "text/plain": [
              "[0.4239814877510071, 0.9126539826393127]"
            ]
          },
          "metadata": {},
          "execution_count": 14
        }
      ]
    },
    {
      "cell_type": "code",
      "source": [
        "model.save(\"model_80x30_loss_0.11_acc_0.97.h5\")"
      ],
      "metadata": {
        "id": "be8B6ZHe4518"
      },
      "execution_count": null,
      "outputs": []
    },
    {
      "cell_type": "code",
      "source": [
        "n = 136\n",
        "\n",
        "x = np.expand_dims(x_test[n], axis=0)\n",
        "res = model.predict(x)\n",
        "print(res)\n",
        "print(f\"Что увидел робот:{np.argmax(res)}\")\n",
        "print(f\"Что на самом деле:{np.argmax(y_test[n])}\" )\n",
        "plt.imshow(x_test[n], cmap=plt.cm.binary)\n",
        "plt.show()"
      ],
      "metadata": {
        "colab": {
          "base_uri": "https://localhost:8080/",
          "height": 337
        },
        "id": "dkdZ8bR15U49",
        "outputId": "aa353817-3a8c-4936-9e7a-4d0b94725c02"
      },
      "execution_count": null,
      "outputs": [
        {
          "output_type": "stream",
          "name": "stdout",
          "text": [
            "[[1.4057485e-04 5.2234129e-04 1.3198832e-07 2.7163562e-04 9.9998057e-01\n",
            "  1.2586021e-03 3.1810498e-03 1.0841107e-05 1.5570697e-02 8.2858488e-02]]\n",
            "Что увидел робот:4\n",
            "Что на самом деле:4\n"
          ]
        },
        {
          "output_type": "display_data",
          "data": {
            "text/plain": [
              "<Figure size 432x288 with 1 Axes>"
            ],
            "image/png": "[encoded data removed]"
          },
          "metadata": {
            "needs_background": "light"
          }
        }
      ]
    }
  ]
}